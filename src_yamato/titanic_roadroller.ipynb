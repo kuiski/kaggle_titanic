{
  "nbformat": 4,
  "nbformat_minor": 0,
  "metadata": {
    "colab": {
      "name": "titanic_roadroller.ipynb",
      "version": "0.3.2",
      "views": {},
      "default_view": {},
      "provenance": [],
      "collapsed_sections": []
    },
    "kernelspec": {
      "name": "python3",
      "display_name": "Python 3"
    }
  },
  "cells": [
    {
      "metadata": {
        "id": "fh6fJNQdd_PO",
        "colab_type": "code",
        "colab": {
          "autoexec": {
            "startup": false,
            "wait_interval": 0
          }
        }
      },
      "cell_type": "code",
      "source": [
        "### 前準備\n",
        "import pandas as pd\n",
        "import io\n",
        "import requests\n",
        "import xgboost as xgb\n",
        "import numpy as np\n",
        "from sklearn import preprocessing\n",
        "from google.colab import files"
      ],
      "execution_count": 0,
      "outputs": []
    },
    {
      "metadata": {
        "id": "zpuveGGUeN9T",
        "colab_type": "code",
        "colab": {
          "autoexec": {
            "startup": false,
            "wait_interval": 0
          }
        }
      },
      "cell_type": "code",
      "source": [
        "### 学習データの読み込みと確認\n",
        "url=\"https://raw.githubusercontent.com/kuiski/kaggle_titanic/master/input/train.csv\"\n",
        "s=requests.get(url).content\n",
        "c=pd.read_csv(io.StringIO(s.decode('utf-8')))"
      ],
      "execution_count": 0,
      "outputs": []
    },
    {
      "metadata": {
        "id": "OyZUeRlReOm2",
        "colab_type": "code",
        "colab": {
          "autoexec": {
            "startup": false,
            "wait_interval": 0
          },
          "base_uri": "https://localhost:8080/",
          "height": 669
        },
        "outputId": "ad6c4707-6156-4936-f757-bdc5233bfa33",
        "executionInfo": {
          "status": "ok",
          "timestamp": 1524272273244,
          "user_tz": -540,
          "elapsed": 533,
          "user": {
            "displayName": "岡本大和",
            "photoUrl": "//lh4.googleusercontent.com/-5qImZFylRfc/AAAAAAAAAAI/AAAAAAAAEO8/fiOjrug6yhM/s50-c-k-no/photo.jpg",
            "userId": "105136097889028485308"
          }
        }
      },
      "cell_type": "code",
      "source": [
        "feature_data = c.loc[:, ['Pclass', 'Sex', 'Age', 'SibSp', 'Parch', 'Fare', 'Embarked']]\n",
        "feature_data[:20]"
      ],
      "execution_count": 3,
      "outputs": [
        {
          "output_type": "execute_result",
          "data": {
            "text/html": [
              "<div>\n",
              "<style scoped>\n",
              "    .dataframe tbody tr th:only-of-type {\n",
              "        vertical-align: middle;\n",
              "    }\n",
              "\n",
              "    .dataframe tbody tr th {\n",
              "        vertical-align: top;\n",
              "    }\n",
              "\n",
              "    .dataframe thead th {\n",
              "        text-align: right;\n",
              "    }\n",
              "</style>\n",
              "<table border=\"1\" class=\"dataframe\">\n",
              "  <thead>\n",
              "    <tr style=\"text-align: right;\">\n",
              "      <th></th>\n",
              "      <th>Pclass</th>\n",
              "      <th>Sex</th>\n",
              "      <th>Age</th>\n",
              "      <th>SibSp</th>\n",
              "      <th>Parch</th>\n",
              "      <th>Fare</th>\n",
              "      <th>Embarked</th>\n",
              "    </tr>\n",
              "  </thead>\n",
              "  <tbody>\n",
              "    <tr>\n",
              "      <th>0</th>\n",
              "      <td>3</td>\n",
              "      <td>male</td>\n",
              "      <td>22.0</td>\n",
              "      <td>1</td>\n",
              "      <td>0</td>\n",
              "      <td>7.2500</td>\n",
              "      <td>S</td>\n",
              "    </tr>\n",
              "    <tr>\n",
              "      <th>1</th>\n",
              "      <td>1</td>\n",
              "      <td>female</td>\n",
              "      <td>38.0</td>\n",
              "      <td>1</td>\n",
              "      <td>0</td>\n",
              "      <td>71.2833</td>\n",
              "      <td>C</td>\n",
              "    </tr>\n",
              "    <tr>\n",
              "      <th>2</th>\n",
              "      <td>3</td>\n",
              "      <td>female</td>\n",
              "      <td>26.0</td>\n",
              "      <td>0</td>\n",
              "      <td>0</td>\n",
              "      <td>7.9250</td>\n",
              "      <td>S</td>\n",
              "    </tr>\n",
              "    <tr>\n",
              "      <th>3</th>\n",
              "      <td>1</td>\n",
              "      <td>female</td>\n",
              "      <td>35.0</td>\n",
              "      <td>1</td>\n",
              "      <td>0</td>\n",
              "      <td>53.1000</td>\n",
              "      <td>S</td>\n",
              "    </tr>\n",
              "    <tr>\n",
              "      <th>4</th>\n",
              "      <td>3</td>\n",
              "      <td>male</td>\n",
              "      <td>35.0</td>\n",
              "      <td>0</td>\n",
              "      <td>0</td>\n",
              "      <td>8.0500</td>\n",
              "      <td>S</td>\n",
              "    </tr>\n",
              "    <tr>\n",
              "      <th>5</th>\n",
              "      <td>3</td>\n",
              "      <td>male</td>\n",
              "      <td>NaN</td>\n",
              "      <td>0</td>\n",
              "      <td>0</td>\n",
              "      <td>8.4583</td>\n",
              "      <td>Q</td>\n",
              "    </tr>\n",
              "    <tr>\n",
              "      <th>6</th>\n",
              "      <td>1</td>\n",
              "      <td>male</td>\n",
              "      <td>54.0</td>\n",
              "      <td>0</td>\n",
              "      <td>0</td>\n",
              "      <td>51.8625</td>\n",
              "      <td>S</td>\n",
              "    </tr>\n",
              "    <tr>\n",
              "      <th>7</th>\n",
              "      <td>3</td>\n",
              "      <td>male</td>\n",
              "      <td>2.0</td>\n",
              "      <td>3</td>\n",
              "      <td>1</td>\n",
              "      <td>21.0750</td>\n",
              "      <td>S</td>\n",
              "    </tr>\n",
              "    <tr>\n",
              "      <th>8</th>\n",
              "      <td>3</td>\n",
              "      <td>female</td>\n",
              "      <td>27.0</td>\n",
              "      <td>0</td>\n",
              "      <td>2</td>\n",
              "      <td>11.1333</td>\n",
              "      <td>S</td>\n",
              "    </tr>\n",
              "    <tr>\n",
              "      <th>9</th>\n",
              "      <td>2</td>\n",
              "      <td>female</td>\n",
              "      <td>14.0</td>\n",
              "      <td>1</td>\n",
              "      <td>0</td>\n",
              "      <td>30.0708</td>\n",
              "      <td>C</td>\n",
              "    </tr>\n",
              "    <tr>\n",
              "      <th>10</th>\n",
              "      <td>3</td>\n",
              "      <td>female</td>\n",
              "      <td>4.0</td>\n",
              "      <td>1</td>\n",
              "      <td>1</td>\n",
              "      <td>16.7000</td>\n",
              "      <td>S</td>\n",
              "    </tr>\n",
              "    <tr>\n",
              "      <th>11</th>\n",
              "      <td>1</td>\n",
              "      <td>female</td>\n",
              "      <td>58.0</td>\n",
              "      <td>0</td>\n",
              "      <td>0</td>\n",
              "      <td>26.5500</td>\n",
              "      <td>S</td>\n",
              "    </tr>\n",
              "    <tr>\n",
              "      <th>12</th>\n",
              "      <td>3</td>\n",
              "      <td>male</td>\n",
              "      <td>20.0</td>\n",
              "      <td>0</td>\n",
              "      <td>0</td>\n",
              "      <td>8.0500</td>\n",
              "      <td>S</td>\n",
              "    </tr>\n",
              "    <tr>\n",
              "      <th>13</th>\n",
              "      <td>3</td>\n",
              "      <td>male</td>\n",
              "      <td>39.0</td>\n",
              "      <td>1</td>\n",
              "      <td>5</td>\n",
              "      <td>31.2750</td>\n",
              "      <td>S</td>\n",
              "    </tr>\n",
              "    <tr>\n",
              "      <th>14</th>\n",
              "      <td>3</td>\n",
              "      <td>female</td>\n",
              "      <td>14.0</td>\n",
              "      <td>0</td>\n",
              "      <td>0</td>\n",
              "      <td>7.8542</td>\n",
              "      <td>S</td>\n",
              "    </tr>\n",
              "    <tr>\n",
              "      <th>15</th>\n",
              "      <td>2</td>\n",
              "      <td>female</td>\n",
              "      <td>55.0</td>\n",
              "      <td>0</td>\n",
              "      <td>0</td>\n",
              "      <td>16.0000</td>\n",
              "      <td>S</td>\n",
              "    </tr>\n",
              "    <tr>\n",
              "      <th>16</th>\n",
              "      <td>3</td>\n",
              "      <td>male</td>\n",
              "      <td>2.0</td>\n",
              "      <td>4</td>\n",
              "      <td>1</td>\n",
              "      <td>29.1250</td>\n",
              "      <td>Q</td>\n",
              "    </tr>\n",
              "    <tr>\n",
              "      <th>17</th>\n",
              "      <td>2</td>\n",
              "      <td>male</td>\n",
              "      <td>NaN</td>\n",
              "      <td>0</td>\n",
              "      <td>0</td>\n",
              "      <td>13.0000</td>\n",
              "      <td>S</td>\n",
              "    </tr>\n",
              "    <tr>\n",
              "      <th>18</th>\n",
              "      <td>3</td>\n",
              "      <td>female</td>\n",
              "      <td>31.0</td>\n",
              "      <td>1</td>\n",
              "      <td>0</td>\n",
              "      <td>18.0000</td>\n",
              "      <td>S</td>\n",
              "    </tr>\n",
              "    <tr>\n",
              "      <th>19</th>\n",
              "      <td>3</td>\n",
              "      <td>female</td>\n",
              "      <td>NaN</td>\n",
              "      <td>0</td>\n",
              "      <td>0</td>\n",
              "      <td>7.2250</td>\n",
              "      <td>C</td>\n",
              "    </tr>\n",
              "  </tbody>\n",
              "</table>\n",
              "</div>"
            ],
            "text/plain": [
              "    Pclass     Sex   Age  SibSp  Parch     Fare Embarked\n",
              "0        3    male  22.0      1      0   7.2500        S\n",
              "1        1  female  38.0      1      0  71.2833        C\n",
              "2        3  female  26.0      0      0   7.9250        S\n",
              "3        1  female  35.0      1      0  53.1000        S\n",
              "4        3    male  35.0      0      0   8.0500        S\n",
              "5        3    male   NaN      0      0   8.4583        Q\n",
              "6        1    male  54.0      0      0  51.8625        S\n",
              "7        3    male   2.0      3      1  21.0750        S\n",
              "8        3  female  27.0      0      2  11.1333        S\n",
              "9        2  female  14.0      1      0  30.0708        C\n",
              "10       3  female   4.0      1      1  16.7000        S\n",
              "11       1  female  58.0      0      0  26.5500        S\n",
              "12       3    male  20.0      0      0   8.0500        S\n",
              "13       3    male  39.0      1      5  31.2750        S\n",
              "14       3  female  14.0      0      0   7.8542        S\n",
              "15       2  female  55.0      0      0  16.0000        S\n",
              "16       3    male   2.0      4      1  29.1250        Q\n",
              "17       2    male   NaN      0      0  13.0000        S\n",
              "18       3  female  31.0      1      0  18.0000        S\n",
              "19       3  female   NaN      0      0   7.2250        C"
            ]
          },
          "metadata": {
            "tags": []
          },
          "execution_count": 3
        }
      ]
    },
    {
      "metadata": {
        "id": "2jBFL1MXeOqH",
        "colab_type": "code",
        "colab": {
          "autoexec": {
            "startup": false,
            "wait_interval": 0
          },
          "base_uri": "https://localhost:8080/",
          "height": 142
        },
        "outputId": "a46dd0fa-4c3d-4069-e703-9a2ba2c46db2",
        "executionInfo": {
          "status": "ok",
          "timestamp": 1524272273811,
          "user_tz": -540,
          "elapsed": 493,
          "user": {
            "displayName": "岡本大和",
            "photoUrl": "//lh4.googleusercontent.com/-5qImZFylRfc/AAAAAAAAAAI/AAAAAAAAEO8/fiOjrug6yhM/s50-c-k-no/photo.jpg",
            "userId": "105136097889028485308"
          }
        }
      },
      "cell_type": "code",
      "source": [
        "label_data = c.loc[:, ['Survived']]\n",
        "label_data[:3]"
      ],
      "execution_count": 4,
      "outputs": [
        {
          "output_type": "execute_result",
          "data": {
            "text/html": [
              "<div>\n",
              "<style scoped>\n",
              "    .dataframe tbody tr th:only-of-type {\n",
              "        vertical-align: middle;\n",
              "    }\n",
              "\n",
              "    .dataframe tbody tr th {\n",
              "        vertical-align: top;\n",
              "    }\n",
              "\n",
              "    .dataframe thead th {\n",
              "        text-align: right;\n",
              "    }\n",
              "</style>\n",
              "<table border=\"1\" class=\"dataframe\">\n",
              "  <thead>\n",
              "    <tr style=\"text-align: right;\">\n",
              "      <th></th>\n",
              "      <th>Survived</th>\n",
              "    </tr>\n",
              "  </thead>\n",
              "  <tbody>\n",
              "    <tr>\n",
              "      <th>0</th>\n",
              "      <td>0</td>\n",
              "    </tr>\n",
              "    <tr>\n",
              "      <th>1</th>\n",
              "      <td>1</td>\n",
              "    </tr>\n",
              "    <tr>\n",
              "      <th>2</th>\n",
              "      <td>1</td>\n",
              "    </tr>\n",
              "  </tbody>\n",
              "</table>\n",
              "</div>"
            ],
            "text/plain": [
              "   Survived\n",
              "0         0\n",
              "1         1\n",
              "2         1"
            ]
          },
          "metadata": {
            "tags": []
          },
          "execution_count": 4
        }
      ]
    },
    {
      "metadata": {
        "id": "7HLPDGNVeOtE",
        "colab_type": "code",
        "colab": {
          "autoexec": {
            "startup": false,
            "wait_interval": 0
          }
        }
      },
      "cell_type": "code",
      "source": [
        "sex_encorder = preprocessing.LabelEncoder()\n",
        "sex_encorder.fit(c['Sex'].astype(str))\n",
        "feature_data['Sex'] = sex_encorder.transform(feature_data['Sex'])"
      ],
      "execution_count": 0,
      "outputs": []
    },
    {
      "metadata": {
        "id": "_2OKjpmgeOvq",
        "colab_type": "code",
        "colab": {
          "autoexec": {
            "startup": false,
            "wait_interval": 0
          }
        }
      },
      "cell_type": "code",
      "source": [
        "embarked_encorder = preprocessing.LabelEncoder()\n",
        "embarked_encorder.fit(c['Embarked'].astype(str))\n",
        "feature_data['Embarked'] = embarked_encorder.transform(feature_data['Embarked'].astype(str))"
      ],
      "execution_count": 0,
      "outputs": []
    },
    {
      "metadata": {
        "id": "CzZXLiVleOx1",
        "colab_type": "code",
        "colab": {
          "autoexec": {
            "startup": false,
            "wait_interval": 0
          },
          "base_uri": "https://localhost:8080/",
          "height": 173
        },
        "outputId": "46a1eeb8-eb0d-461e-8b32-9fc9c8a8ae37",
        "executionInfo": {
          "status": "ok",
          "timestamp": 1524272275718,
          "user_tz": -540,
          "elapsed": 654,
          "user": {
            "displayName": "岡本大和",
            "photoUrl": "//lh4.googleusercontent.com/-5qImZFylRfc/AAAAAAAAAAI/AAAAAAAAEO8/fiOjrug6yhM/s50-c-k-no/photo.jpg",
            "userId": "105136097889028485308"
          }
        }
      },
      "cell_type": "code",
      "source": [
        "feature_data.loc[:3]"
      ],
      "execution_count": 7,
      "outputs": [
        {
          "output_type": "execute_result",
          "data": {
            "text/html": [
              "<div>\n",
              "<style scoped>\n",
              "    .dataframe tbody tr th:only-of-type {\n",
              "        vertical-align: middle;\n",
              "    }\n",
              "\n",
              "    .dataframe tbody tr th {\n",
              "        vertical-align: top;\n",
              "    }\n",
              "\n",
              "    .dataframe thead th {\n",
              "        text-align: right;\n",
              "    }\n",
              "</style>\n",
              "<table border=\"1\" class=\"dataframe\">\n",
              "  <thead>\n",
              "    <tr style=\"text-align: right;\">\n",
              "      <th></th>\n",
              "      <th>Pclass</th>\n",
              "      <th>Sex</th>\n",
              "      <th>Age</th>\n",
              "      <th>SibSp</th>\n",
              "      <th>Parch</th>\n",
              "      <th>Fare</th>\n",
              "      <th>Embarked</th>\n",
              "    </tr>\n",
              "  </thead>\n",
              "  <tbody>\n",
              "    <tr>\n",
              "      <th>0</th>\n",
              "      <td>3</td>\n",
              "      <td>1</td>\n",
              "      <td>22.0</td>\n",
              "      <td>1</td>\n",
              "      <td>0</td>\n",
              "      <td>7.2500</td>\n",
              "      <td>2</td>\n",
              "    </tr>\n",
              "    <tr>\n",
              "      <th>1</th>\n",
              "      <td>1</td>\n",
              "      <td>0</td>\n",
              "      <td>38.0</td>\n",
              "      <td>1</td>\n",
              "      <td>0</td>\n",
              "      <td>71.2833</td>\n",
              "      <td>0</td>\n",
              "    </tr>\n",
              "    <tr>\n",
              "      <th>2</th>\n",
              "      <td>3</td>\n",
              "      <td>0</td>\n",
              "      <td>26.0</td>\n",
              "      <td>0</td>\n",
              "      <td>0</td>\n",
              "      <td>7.9250</td>\n",
              "      <td>2</td>\n",
              "    </tr>\n",
              "    <tr>\n",
              "      <th>3</th>\n",
              "      <td>1</td>\n",
              "      <td>0</td>\n",
              "      <td>35.0</td>\n",
              "      <td>1</td>\n",
              "      <td>0</td>\n",
              "      <td>53.1000</td>\n",
              "      <td>2</td>\n",
              "    </tr>\n",
              "  </tbody>\n",
              "</table>\n",
              "</div>"
            ],
            "text/plain": [
              "   Pclass  Sex   Age  SibSp  Parch     Fare  Embarked\n",
              "0       3    1  22.0      1      0   7.2500         2\n",
              "1       1    0  38.0      1      0  71.2833         0\n",
              "2       3    0  26.0      0      0   7.9250         2\n",
              "3       1    0  35.0      1      0  53.1000         2"
            ]
          },
          "metadata": {
            "tags": []
          },
          "execution_count": 7
        }
      ]
    },
    {
      "metadata": {
        "id": "IurleqsLxt3E",
        "colab_type": "code",
        "colab": {
          "autoexec": {
            "startup": false,
            "wait_interval": 0
          }
        }
      },
      "cell_type": "code",
      "source": [
        ""
      ],
      "execution_count": 0,
      "outputs": []
    },
    {
      "metadata": {
        "id": "2-b0ucOKe6B6",
        "colab_type": "code",
        "colab": {
          "autoexec": {
            "startup": false,
            "wait_interval": 0
          },
          "base_uri": "https://localhost:8080/",
          "height": 53
        },
        "outputId": "81c06e69-7ac9-4364-cbc8-6403ac454ae0",
        "executionInfo": {
          "status": "ok",
          "timestamp": 1524272276991,
          "user_tz": -540,
          "elapsed": 548,
          "user": {
            "displayName": "岡本大和",
            "photoUrl": "//lh4.googleusercontent.com/-5qImZFylRfc/AAAAAAAAAAI/AAAAAAAAEO8/fiOjrug6yhM/s50-c-k-no/photo.jpg",
            "userId": "105136097889028485308"
          }
        }
      },
      "cell_type": "code",
      "source": [
        "data_X = np.array(feature_data)\n",
        "data_Y = np.array(label_data)\n",
        "\n",
        "print(data_X.shape)\n",
        "print(data_Y.shape)"
      ],
      "execution_count": 8,
      "outputs": [
        {
          "output_type": "stream",
          "text": [
            "(891, 7)\n",
            "(891, 1)\n"
          ],
          "name": "stdout"
        }
      ]
    },
    {
      "metadata": {
        "id": "_hZRIxcCxYRQ",
        "colab_type": "code",
        "colab": {
          "autoexec": {
            "startup": false,
            "wait_interval": 0
          },
          "base_uri": "https://localhost:8080/",
          "height": 36
        },
        "outputId": "0d3d128b-4ba1-4028-9acd-a58fe56a2d40",
        "executionInfo": {
          "status": "ok",
          "timestamp": 1524272277578,
          "user_tz": -540,
          "elapsed": 541,
          "user": {
            "displayName": "岡本大和",
            "photoUrl": "//lh4.googleusercontent.com/-5qImZFylRfc/AAAAAAAAAAI/AAAAAAAAEO8/fiOjrug6yhM/s50-c-k-no/photo.jpg",
            "userId": "105136097889028485308"
          }
        }
      },
      "cell_type": "code",
      "source": [
        "# TEST_DATAの読み込み\n",
        "url=\"https://raw.githubusercontent.com/kuiski/kaggle_titanic/master/input/test.csv\"\n",
        "s=requests.get(url).content\n",
        "test=pd.read_csv(io.StringIO(s.decode('utf-8')))\n",
        "\n",
        "test_data = test.loc[:, ['Pclass', 'Sex', 'Age', 'SibSp', 'Parch', 'Fare', 'Embarked']]\n",
        "test_data['Embarked'] = embarked_encorder.transform(test_data['Embarked'].astype(str))\n",
        "test_data['Sex'] = sex_encorder.transform(test_data['Sex'])\n",
        "\n",
        "test_X = np.array(test_data)\n",
        "print(test_X.shape)\n"
      ],
      "execution_count": 9,
      "outputs": [
        {
          "output_type": "stream",
          "text": [
            "(418, 7)\n"
          ],
          "name": "stdout"
        }
      ]
    },
    {
      "metadata": {
        "id": "KnI1FhDM7hPr",
        "colab_type": "code",
        "colab": {
          "autoexec": {
            "startup": false,
            "wait_interval": 0
          }
        }
      },
      "cell_type": "code",
      "source": [
        "\n",
        "# 欠損値をゼロで置換\n",
        "data_X[np.isnan(data_X)] = 200\n",
        "data_Y[np.isnan(data_Y)] = 200\n",
        "test_X[np.isnan(test_X)] = 200"
      ],
      "execution_count": 0,
      "outputs": []
    },
    {
      "metadata": {
        "id": "DwyalNIKeO0H",
        "colab_type": "code",
        "colab": {
          "autoexec": {
            "startup": false,
            "wait_interval": 0
          },
          "base_uri": "https://localhost:8080/",
          "height": 53
        },
        "outputId": "1ff262ce-5b94-4e7d-d54f-28a418660d0c",
        "executionInfo": {
          "status": "ok",
          "timestamp": 1524272281151,
          "user_tz": -540,
          "elapsed": 2438,
          "user": {
            "displayName": "岡本大和",
            "photoUrl": "//lh4.googleusercontent.com/-5qImZFylRfc/AAAAAAAAAAI/AAAAAAAAEO8/fiOjrug6yhM/s50-c-k-no/photo.jpg",
            "userId": "105136097889028485308"
          }
        }
      },
      "cell_type": "code",
      "source": [
        "### 無敵のディープラーニングでなんとかしてくださいよぉーーー！！\n",
        "import tensorflow as tf\n",
        "from sklearn.model_selection import train_test_split\n",
        "from sklearn.utils import shuffle\n",
        "from math import ceil\n",
        "\n",
        "%matplotlib inline\n",
        "import matplotlib.pyplot as plt\n",
        "\n",
        "# 深層学習モデルを保存するファイル名\n",
        "saver_filename = './model.chkp'\n",
        "\n",
        "# TESTとVALIDに分割\n",
        "rng = np.random.RandomState(44)\n",
        "train_X, valid_X, train_Y, valid_Y = train_test_split(data_X, data_Y, test_size=0.1, random_state=42)\n",
        "\n",
        "\n",
        "print(train_X.shape)\n",
        "print(valid_Y.shape)\n",
        "\n"
      ],
      "execution_count": 11,
      "outputs": [
        {
          "output_type": "stream",
          "text": [
            "(801, 7)\n",
            "(90, 1)\n"
          ],
          "name": "stdout"
        }
      ]
    },
    {
      "metadata": {
        "id": "jhUuXfVPfld7",
        "colab_type": "code",
        "colab": {
          "autoexec": {
            "startup": false,
            "wait_interval": 0
          }
        }
      },
      "cell_type": "code",
      "source": [
        "\n",
        "# NeuralNetworkのLayerを定義\n",
        "class Dense:\n",
        "    def __init__(self, in_dim, out_dim, function=lambda x: x):\n",
        "        self.W = tf.Variable(rng.uniform(\n",
        "                        low=-np.sqrt(6/(in_dim + out_dim)),\n",
        "                        high=np.sqrt(6/(in_dim + out_dim)),\n",
        "                        size=(in_dim, out_dim)\n",
        "                    ).astype('float32'), name='W')\n",
        "        self.b = tf.Variable(tf.zeros([out_dim], dtype=tf.float32), name='b')\n",
        "        self.function = function\n",
        "    def f_prop(self, x):\n",
        "        return self.function(tf.einsum('ik,kl->il', x, self.W) + self.b)  \n",
        "      \n",
        "\n",
        "def design_model(feature_size, prediction_dim):\n",
        "    x = tf.placeholder(tf.float32, [None, feature_size], name='x')\n",
        "    t = tf.placeholder(tf.float32, [None, prediction_dim], name='t')\n",
        "\n",
        "    # NeuralNetworkのモデル構造を定義\n",
        "    layers = [\n",
        "        Dense(feature_size, 40, tf.nn.relu),\n",
        "        Dense(40, 30, tf.nn.relu),\n",
        "        Dense(30, prediction_dim, tf.nn.sigmoid)\n",
        "    ]\n",
        " \n",
        "    def f_props(layers, x):\n",
        "        for layer in layers:\n",
        "            x = layer.f_prop(x)\n",
        "        return x\n",
        "    \n",
        "    y = f_props(layers, x)\n",
        "    cost = tf.reduce_mean(tf.square(y - t))\n",
        "   \n",
        "    return x,t,y,cost"
      ],
      "execution_count": 0,
      "outputs": []
    },
    {
      "metadata": {
        "id": "BV9w038vflld",
        "colab_type": "code",
        "colab": {
          "autoexec": {
            "startup": false,
            "wait_interval": 0
          }
        }
      },
      "cell_type": "code",
      "source": [
        "# LOSS遷移を可視化\n",
        "def CreateLossGraph(train_cost_list, test_cost_list):\n",
        "    iter_list = range(1, len(train_cost_list)+1, 1)\n",
        "    plt.figure()\n",
        "    p_train = plt.plot(iter_list,train_cost_list)\n",
        "    p_test  = plt.plot(iter_list,test_cost_list, linestyle=\"dashed\") \n",
        "    plt.ylim([0,1])\n",
        "    plt.legend((p_train[0], p_test[0]), (\"TRAIN\", \"VALID\"), loc=2)\n",
        "    plt.grid(True)\n",
        "    plt.show()\n",
        "\n",
        "# 学習の実行\n",
        "def estimate_model(train_X, train_Y, valid_X, valid_Y, test_X):  \n",
        "    feature_size = train_X.shape[-1]\n",
        "    prediction_dim = train_Y.shape[-1]\n",
        "    x,t,y,cost = design_model(feature_size, prediction_dim)\n",
        "    train = tf.train.AdamOptimizer(learning_rate=0.001).minimize(cost)\n",
        "    \n",
        "    saver_all = tf.train.Saver()    \n",
        "    sess = tf.Session()\n",
        "    sess.run(tf.global_variables_initializer())\n",
        "\n",
        "    # VALIDへのLOSS\n",
        "    def score():\n",
        "        if valid_X is None:\n",
        "            return -1\n",
        "        n_batches_valid = -(-len(valid_X) // batch_size)\n",
        "        valid_costs = []\n",
        "        for i in range(n_batches_valid):\n",
        "            start = i * batch_size\n",
        "            end = start + batch_size if (start + batch_size) < len(valid_X) else len(valid_X)\n",
        "            valid_cost = sess.run(cost, feed_dict={x: valid_X[start:end], t: valid_Y[start:end]})\n",
        "            valid_costs.append(valid_cost)\n",
        "        return np.mean(valid_costs)\n",
        "\n",
        "    # TRAINのLOSS\n",
        "    n_batches = len(train_X) // batch_size\n",
        "    valid_cost_min = np.inf\n",
        "    train_cost_list, valid_cost_list = [], []\n",
        "    for epoch in range(n_epochs):\n",
        "        _train_X, _train_Y = shuffle(train_X, train_Y)\n",
        "        train_costs = []\n",
        "        for i in range(n_batches):\n",
        "            start = i * batch_size\n",
        "            end = start + batch_size if (start + batch_size) < len(_train_X) else len(_train_X)\n",
        "            _, train_cost = sess.run([train, cost], feed_dict={x: _train_X[start:end], t: _train_Y[start:end]})\n",
        "            train_costs.append(train_cost)\n",
        "\n",
        "        valid_cost = score()\n",
        "        print('{:03d}, {:.5f}, {:.5f} (min:{:.5f})'.format(epoch+1, np.mean(train_costs), valid_cost, valid_cost_min))\n",
        "        train_cost_list.append(np.mean(train_costs))\n",
        "        valid_cost_list.append(valid_cost)\n",
        "\n",
        "        # VALIDでLOSS最小のモデルを保存する\n",
        "        if valid_cost < valid_cost_min:\n",
        "            valid_cost_min = valid_cost\n",
        "            epoch_min = epoch\n",
        "            saver_all.save(sess,saver_filename)\n",
        "\n",
        "    saver_all.restore(sess,saver_filename)\n",
        "    predBest_train_Y  = sess.run(y, feed_dict={x: train_X})\n",
        "    predBest_valid_Y  = sess.run(y, feed_dict={x: valid_X})\n",
        "    predBest_test_Y   = sess.run(y, feed_dict={x: test_X})\n",
        "    sess.close()\n",
        "    \n",
        "    # LOSSグラフ出力\n",
        "    CreateLossGraph(train_cost_list, valid_cost_list)\n",
        "\n",
        "    return predBest_train_Y, predBest_valid_Y, predBest_test_Y # BESTな予測値を返す\n",
        "\n"
      ],
      "execution_count": 0,
      "outputs": []
    },
    {
      "metadata": {
        "id": "NM6wbYoL6a3G",
        "colab_type": "code",
        "colab": {
          "autoexec": {
            "startup": false,
            "wait_interval": 0
          },
          "base_uri": "https://localhost:8080/",
          "height": 5388
        },
        "outputId": "820e418d-6f48-477a-8bb4-13772f7bfda1",
        "executionInfo": {
          "status": "ok",
          "timestamp": 1524272290584,
          "user_tz": -540,
          "elapsed": 7874,
          "user": {
            "displayName": "岡本大和",
            "photoUrl": "//lh4.googleusercontent.com/-5qImZFylRfc/AAAAAAAAAAI/AAAAAAAAEO8/fiOjrug6yhM/s50-c-k-no/photo.jpg",
            "userId": "105136097889028485308"
          }
        }
      },
      "cell_type": "code",
      "source": [
        "# ハイパーパラメータの設定\n",
        "batch_size = 32\n",
        "n_epochs = 300\n",
        "\n",
        "predBest_train_Y, predBest_valid_Y, predBest_test_Y = estimate_model(train_X, train_Y, valid_X, valid_Y, test_X)"
      ],
      "execution_count": 14,
      "outputs": [
        {
          "output_type": "stream",
          "text": [
            "001, 0.31230, 0.20347 (min:inf)\n",
            "002, 0.22144, 0.21345 (min:0.20347)\n",
            "003, 0.21598, 0.21571 (min:0.20347)\n",
            "004, 0.20580, 0.20493 (min:0.20347)\n",
            "005, 0.19972, 0.18740 (min:0.20347)\n",
            "006, 0.20051, 0.18222 (min:0.18740)\n",
            "007, 0.19340, 0.17634 (min:0.18222)\n",
            "008, 0.18598, 0.18192 (min:0.17634)\n",
            "009, 0.18480, 0.20230 (min:0.17634)\n",
            "010, 0.18896, 0.18957 (min:0.17634)\n",
            "011, 0.18192, 0.16789 (min:0.17634)\n",
            "012, 0.17445, 0.17007 (min:0.16789)\n",
            "013, 0.18150, 0.15916 (min:0.16789)\n",
            "014, 0.17655, 0.15874 (min:0.15916)\n",
            "015, 0.18361, 0.16424 (min:0.15874)\n",
            "016, 0.17203, 0.15851 (min:0.15874)\n",
            "017, 0.17259, 0.15805 (min:0.15851)\n",
            "018, 0.16600, 0.15623 (min:0.15805)\n",
            "019, 0.16454, 0.15846 (min:0.15623)\n",
            "020, 0.16753, 0.15578 (min:0.15623)\n",
            "021, 0.15578, 0.15855 (min:0.15578)\n",
            "022, 0.16823, 0.14549 (min:0.15578)\n",
            "023, 0.15696, 0.14385 (min:0.14549)\n",
            "024, 0.15563, 0.15286 (min:0.14385)\n",
            "025, 0.14853, 0.14314 (min:0.14385)\n",
            "026, 0.14964, 0.14168 (min:0.14314)\n",
            "027, 0.15129, 0.14233 (min:0.14168)\n",
            "028, 0.15861, 0.14669 (min:0.14168)\n",
            "029, 0.15249, 0.14167 (min:0.14168)\n",
            "030, 0.15643, 0.14122 (min:0.14167)\n",
            "031, 0.15280, 0.20143 (min:0.14122)\n",
            "032, 0.15676, 0.14165 (min:0.14122)\n",
            "033, 0.14365, 0.13893 (min:0.14122)\n",
            "034, 0.14464, 0.15246 (min:0.13893)\n",
            "035, 0.15406, 0.14348 (min:0.13893)\n",
            "036, 0.14704, 0.13775 (min:0.13893)\n",
            "037, 0.13829, 0.16320 (min:0.13775)\n",
            "038, 0.14819, 0.14365 (min:0.13775)\n",
            "039, 0.14244, 0.13438 (min:0.13775)\n",
            "040, 0.14489, 0.15185 (min:0.13438)\n",
            "041, 0.13909, 0.13408 (min:0.13438)\n",
            "042, 0.14115, 0.13496 (min:0.13408)\n",
            "043, 0.13913, 0.14113 (min:0.13408)\n",
            "044, 0.14244, 0.13588 (min:0.13408)\n",
            "045, 0.13919, 0.16081 (min:0.13408)\n",
            "046, 0.14482, 0.14787 (min:0.13408)\n",
            "047, 0.13823, 0.13276 (min:0.13408)\n",
            "048, 0.13953, 0.13369 (min:0.13276)\n",
            "049, 0.14105, 0.13565 (min:0.13276)\n",
            "050, 0.14159, 0.15417 (min:0.13276)\n",
            "051, 0.14484, 0.13964 (min:0.13276)\n",
            "052, 0.14049, 0.14620 (min:0.13276)\n",
            "053, 0.14768, 0.16149 (min:0.13276)\n",
            "054, 0.14152, 0.13214 (min:0.13276)\n",
            "055, 0.14050, 0.14985 (min:0.13214)\n",
            "056, 0.14963, 0.13101 (min:0.13214)\n",
            "057, 0.14630, 0.14156 (min:0.13101)\n",
            "058, 0.14266, 0.13000 (min:0.13101)\n",
            "059, 0.13430, 0.14238 (min:0.13000)\n",
            "060, 0.13309, 0.13900 (min:0.13000)\n",
            "061, 0.14586, 0.13414 (min:0.13000)\n",
            "062, 0.13743, 0.14851 (min:0.13000)\n",
            "063, 0.14692, 0.13623 (min:0.13000)\n",
            "064, 0.14530, 0.13257 (min:0.13000)\n",
            "065, 0.13818, 0.13295 (min:0.13000)\n",
            "066, 0.13827, 0.16025 (min:0.13000)\n",
            "067, 0.16804, 0.20809 (min:0.13000)\n",
            "068, 0.14811, 0.14206 (min:0.13000)\n",
            "069, 0.13631, 0.14362 (min:0.13000)\n",
            "070, 0.13560, 0.14484 (min:0.13000)\n",
            "071, 0.15895, 0.15203 (min:0.13000)\n",
            "072, 0.13613, 0.13243 (min:0.13000)\n",
            "073, 0.13438, 0.13723 (min:0.13000)\n",
            "074, 0.14636, 0.19699 (min:0.13000)\n",
            "075, 0.13543, 0.13082 (min:0.13000)\n",
            "076, 0.13045, 0.13762 (min:0.13000)\n",
            "077, 0.13527, 0.16799 (min:0.13000)\n",
            "078, 0.13319, 0.16469 (min:0.13000)\n",
            "079, 0.13664, 0.13487 (min:0.13000)\n",
            "080, 0.13280, 0.13350 (min:0.13000)\n",
            "081, 0.15387, 0.14407 (min:0.13000)\n",
            "082, 0.13792, 0.14974 (min:0.13000)\n",
            "083, 0.13476, 0.14056 (min:0.13000)\n",
            "084, 0.13010, 0.13898 (min:0.13000)\n",
            "085, 0.13474, 0.14003 (min:0.13000)\n",
            "086, 0.13401, 0.13332 (min:0.13000)\n",
            "087, 0.13535, 0.14343 (min:0.13000)\n",
            "088, 0.13193, 0.14740 (min:0.13000)\n",
            "089, 0.13613, 0.13564 (min:0.13000)\n",
            "090, 0.13166, 0.13958 (min:0.13000)\n",
            "091, 0.13012, 0.17464 (min:0.13000)\n",
            "092, 0.14311, 0.14709 (min:0.13000)\n",
            "093, 0.13662, 0.15428 (min:0.13000)\n",
            "094, 0.13520, 0.13606 (min:0.13000)\n",
            "095, 0.13317, 0.13377 (min:0.13000)\n",
            "096, 0.13163, 0.13619 (min:0.13000)\n",
            "097, 0.13375, 0.13753 (min:0.13000)\n",
            "098, 0.13671, 0.13324 (min:0.13000)\n",
            "099, 0.13098, 0.13076 (min:0.13000)\n",
            "100, 0.13230, 0.14594 (min:0.13000)\n",
            "101, 0.12539, 0.13322 (min:0.13000)\n",
            "102, 0.13339, 0.13667 (min:0.13000)\n",
            "103, 0.13397, 0.14255 (min:0.13000)\n",
            "104, 0.13544, 0.16783 (min:0.13000)\n",
            "105, 0.12828, 0.14922 (min:0.13000)\n",
            "106, 0.12887, 0.14006 (min:0.13000)\n",
            "107, 0.13166, 0.16970 (min:0.13000)\n",
            "108, 0.13680, 0.13752 (min:0.13000)\n",
            "109, 0.13078, 0.18323 (min:0.13000)\n",
            "110, 0.14610, 0.19273 (min:0.13000)\n",
            "111, 0.14263, 0.14610 (min:0.13000)\n",
            "112, 0.13226, 0.13670 (min:0.13000)\n",
            "113, 0.13294, 0.14549 (min:0.13000)\n",
            "114, 0.14476, 0.13476 (min:0.13000)\n",
            "115, 0.12774, 0.13644 (min:0.13000)\n",
            "116, 0.12856, 0.15025 (min:0.13000)\n",
            "117, 0.13633, 0.14159 (min:0.13000)\n",
            "118, 0.12442, 0.13609 (min:0.13000)\n",
            "119, 0.12833, 0.14268 (min:0.13000)\n",
            "120, 0.14259, 0.13062 (min:0.13000)\n",
            "121, 0.13554, 0.14093 (min:0.13000)\n",
            "122, 0.14038, 0.14300 (min:0.13000)\n",
            "123, 0.12876, 0.14540 (min:0.13000)\n",
            "124, 0.13040, 0.14606 (min:0.13000)\n",
            "125, 0.13710, 0.14364 (min:0.13000)\n",
            "126, 0.13357, 0.13516 (min:0.13000)\n",
            "127, 0.13580, 0.14069 (min:0.13000)\n",
            "128, 0.13364, 0.15802 (min:0.13000)\n",
            "129, 0.12663, 0.13014 (min:0.13000)\n",
            "130, 0.12359, 0.14143 (min:0.13000)\n",
            "131, 0.13867, 0.13949 (min:0.13000)\n",
            "132, 0.12468, 0.14126 (min:0.13000)\n",
            "133, 0.13042, 0.14370 (min:0.13000)\n",
            "134, 0.12552, 0.14501 (min:0.13000)\n",
            "135, 0.13004, 0.15685 (min:0.13000)\n",
            "136, 0.12994, 0.15545 (min:0.13000)\n",
            "137, 0.12863, 0.16546 (min:0.13000)\n",
            "138, 0.14204, 0.14691 (min:0.13000)\n",
            "139, 0.12648, 0.14226 (min:0.13000)\n",
            "140, 0.12956, 0.13699 (min:0.13000)\n",
            "141, 0.12739, 0.13416 (min:0.13000)\n",
            "142, 0.12695, 0.16215 (min:0.13000)\n",
            "143, 0.13112, 0.13947 (min:0.13000)\n",
            "144, 0.12412, 0.14018 (min:0.13000)\n",
            "145, 0.12692, 0.13050 (min:0.13000)\n",
            "146, 0.12691, 0.13793 (min:0.13000)\n",
            "147, 0.12254, 0.13831 (min:0.13000)\n",
            "148, 0.12253, 0.16281 (min:0.13000)\n",
            "149, 0.12291, 0.14104 (min:0.13000)\n",
            "150, 0.12286, 0.13828 (min:0.13000)\n",
            "151, 0.12123, 0.13812 (min:0.13000)\n",
            "152, 0.12918, 0.13669 (min:0.13000)\n",
            "153, 0.13429, 0.17287 (min:0.13000)\n",
            "154, 0.12965, 0.14665 (min:0.13000)\n",
            "155, 0.12602, 0.13501 (min:0.13000)\n",
            "156, 0.12092, 0.13921 (min:0.13000)\n",
            "157, 0.12358, 0.14499 (min:0.13000)\n",
            "158, 0.13737, 0.15133 (min:0.13000)\n",
            "159, 0.12924, 0.15928 (min:0.13000)\n",
            "160, 0.12997, 0.13943 (min:0.13000)\n",
            "161, 0.13193, 0.14228 (min:0.13000)\n",
            "162, 0.12498, 0.15404 (min:0.13000)\n",
            "163, 0.12463, 0.13964 (min:0.13000)\n",
            "164, 0.12110, 0.13945 (min:0.13000)\n",
            "165, 0.11966, 0.13866 (min:0.13000)\n",
            "166, 0.12386, 0.13972 (min:0.13000)\n",
            "167, 0.12106, 0.14885 (min:0.13000)\n",
            "168, 0.13168, 0.13648 (min:0.13000)\n",
            "169, 0.12865, 0.19368 (min:0.13000)\n",
            "170, 0.15673, 0.16701 (min:0.13000)\n",
            "171, 0.12721, 0.15204 (min:0.13000)\n",
            "172, 0.14189, 0.13793 (min:0.13000)\n",
            "173, 0.11911, 0.14137 (min:0.13000)\n",
            "174, 0.12692, 0.15976 (min:0.13000)\n",
            "175, 0.13164, 0.21070 (min:0.13000)\n",
            "176, 0.13608, 0.14309 (min:0.13000)\n",
            "177, 0.13884, 0.14236 (min:0.13000)\n",
            "178, 0.12323, 0.14441 (min:0.13000)\n",
            "179, 0.13015, 0.14184 (min:0.13000)\n",
            "180, 0.12818, 0.14985 (min:0.13000)\n",
            "181, 0.12295, 0.15090 (min:0.13000)\n",
            "182, 0.12127, 0.14031 (min:0.13000)\n",
            "183, 0.13092, 0.13874 (min:0.13000)\n",
            "184, 0.11910, 0.14827 (min:0.13000)\n",
            "185, 0.12889, 0.14212 (min:0.13000)\n",
            "186, 0.12528, 0.13814 (min:0.13000)\n",
            "187, 0.12079, 0.13976 (min:0.13000)\n",
            "188, 0.12234, 0.13942 (min:0.13000)\n",
            "189, 0.12147, 0.15875 (min:0.13000)\n",
            "190, 0.12785, 0.13873 (min:0.13000)\n",
            "191, 0.12591, 0.18248 (min:0.13000)\n",
            "192, 0.12691, 0.14141 (min:0.13000)\n",
            "193, 0.12216, 0.14903 (min:0.13000)\n",
            "194, 0.11817, 0.14192 (min:0.13000)\n",
            "195, 0.11933, 0.14767 (min:0.13000)\n",
            "196, 0.12018, 0.15362 (min:0.13000)\n",
            "197, 0.12053, 0.13907 (min:0.13000)\n",
            "198, 0.12321, 0.14741 (min:0.13000)\n",
            "199, 0.12650, 0.15675 (min:0.13000)\n",
            "200, 0.12328, 0.15434 (min:0.13000)\n",
            "201, 0.12916, 0.14910 (min:0.13000)\n",
            "202, 0.12590, 0.14781 (min:0.13000)\n",
            "203, 0.12141, 0.14259 (min:0.13000)\n",
            "204, 0.12296, 0.17170 (min:0.13000)\n",
            "205, 0.11709, 0.15619 (min:0.13000)\n",
            "206, 0.12305, 0.14672 (min:0.13000)\n",
            "207, 0.11965, 0.15107 (min:0.13000)\n",
            "208, 0.12406, 0.16014 (min:0.13000)\n",
            "209, 0.11696, 0.16543 (min:0.13000)\n",
            "210, 0.12008, 0.16699 (min:0.13000)\n",
            "211, 0.13160, 0.15066 (min:0.13000)\n",
            "212, 0.12851, 0.16052 (min:0.13000)\n",
            "213, 0.12474, 0.14799 (min:0.13000)\n",
            "214, 0.12573, 0.15106 (min:0.13000)\n",
            "215, 0.11983, 0.15235 (min:0.13000)\n",
            "216, 0.12976, 0.17039 (min:0.13000)\n",
            "217, 0.12693, 0.15534 (min:0.13000)\n",
            "218, 0.12685, 0.14007 (min:0.13000)\n",
            "219, 0.12338, 0.16898 (min:0.13000)\n",
            "220, 0.12033, 0.16443 (min:0.13000)\n",
            "221, 0.12051, 0.14234 (min:0.13000)\n",
            "222, 0.11630, 0.16459 (min:0.13000)\n",
            "223, 0.12220, 0.13736 (min:0.13000)\n",
            "224, 0.12442, 0.14360 (min:0.13000)\n",
            "225, 0.12332, 0.14030 (min:0.13000)\n",
            "226, 0.11973, 0.16284 (min:0.13000)\n",
            "227, 0.12488, 0.14511 (min:0.13000)\n",
            "228, 0.11986, 0.14397 (min:0.13000)\n",
            "229, 0.11942, 0.14705 (min:0.13000)\n",
            "230, 0.11779, 0.14247 (min:0.13000)\n",
            "231, 0.12460, 0.15034 (min:0.13000)\n",
            "232, 0.11708, 0.15672 (min:0.13000)\n",
            "233, 0.12003, 0.14070 (min:0.13000)\n",
            "234, 0.12055, 0.14472 (min:0.13000)\n"
          ],
          "name": "stdout"
        },
        {
          "output_type": "stream",
          "text": [
            "235, 0.13108, 0.15204 (min:0.13000)\n",
            "236, 0.13712, 0.16401 (min:0.13000)\n",
            "237, 0.12703, 0.14708 (min:0.13000)\n",
            "238, 0.12071, 0.16464 (min:0.13000)\n",
            "239, 0.12119, 0.15493 (min:0.13000)\n",
            "240, 0.11984, 0.14743 (min:0.13000)\n",
            "241, 0.12333, 0.15693 (min:0.13000)\n",
            "242, 0.11788, 0.14701 (min:0.13000)\n",
            "243, 0.11920, 0.14196 (min:0.13000)\n",
            "244, 0.11940, 0.14617 (min:0.13000)\n",
            "245, 0.12017, 0.15255 (min:0.13000)\n",
            "246, 0.13040, 0.16065 (min:0.13000)\n",
            "247, 0.12228, 0.14436 (min:0.13000)\n",
            "248, 0.12236, 0.14786 (min:0.13000)\n",
            "249, 0.11927, 0.16203 (min:0.13000)\n",
            "250, 0.11798, 0.15912 (min:0.13000)\n",
            "251, 0.12012, 0.14498 (min:0.13000)\n",
            "252, 0.11788, 0.15134 (min:0.13000)\n",
            "253, 0.12238, 0.14339 (min:0.13000)\n",
            "254, 0.11873, 0.15957 (min:0.13000)\n",
            "255, 0.11795, 0.14661 (min:0.13000)\n",
            "256, 0.11399, 0.16223 (min:0.13000)\n",
            "257, 0.11499, 0.17278 (min:0.13000)\n",
            "258, 0.13308, 0.15827 (min:0.13000)\n",
            "259, 0.11901, 0.16242 (min:0.13000)\n",
            "260, 0.12321, 0.13781 (min:0.13000)\n",
            "261, 0.11959, 0.14493 (min:0.13000)\n",
            "262, 0.11753, 0.15158 (min:0.13000)\n",
            "263, 0.13402, 0.15897 (min:0.13000)\n",
            "264, 0.12927, 0.14232 (min:0.13000)\n",
            "265, 0.11857, 0.14856 (min:0.13000)\n",
            "266, 0.11739, 0.14420 (min:0.13000)\n",
            "267, 0.11765, 0.14473 (min:0.13000)\n",
            "268, 0.11815, 0.15117 (min:0.13000)\n",
            "269, 0.11250, 0.17170 (min:0.13000)\n",
            "270, 0.11744, 0.16577 (min:0.13000)\n",
            "271, 0.11708, 0.14260 (min:0.13000)\n",
            "272, 0.11526, 0.14828 (min:0.13000)\n",
            "273, 0.11745, 0.15038 (min:0.13000)\n",
            "274, 0.12069, 0.15219 (min:0.13000)\n",
            "275, 0.11671, 0.15966 (min:0.13000)\n",
            "276, 0.11650, 0.14604 (min:0.13000)\n",
            "277, 0.12279, 0.15122 (min:0.13000)\n",
            "278, 0.12637, 0.15391 (min:0.13000)\n",
            "279, 0.11653, 0.16452 (min:0.13000)\n",
            "280, 0.12417, 0.15325 (min:0.13000)\n",
            "281, 0.12938, 0.18409 (min:0.13000)\n",
            "282, 0.11817, 0.15873 (min:0.13000)\n",
            "283, 0.12373, 0.14970 (min:0.13000)\n",
            "284, 0.12073, 0.14635 (min:0.13000)\n",
            "285, 0.12579, 0.15757 (min:0.13000)\n",
            "286, 0.11806, 0.15492 (min:0.13000)\n",
            "287, 0.11297, 0.15221 (min:0.13000)\n",
            "288, 0.11441, 0.14756 (min:0.13000)\n",
            "289, 0.11782, 0.14876 (min:0.13000)\n",
            "290, 0.11975, 0.17135 (min:0.13000)\n",
            "291, 0.11944, 0.15247 (min:0.13000)\n",
            "292, 0.12703, 0.14535 (min:0.13000)\n",
            "293, 0.12982, 0.15410 (min:0.13000)\n",
            "294, 0.12481, 0.15101 (min:0.13000)\n",
            "295, 0.11790, 0.14695 (min:0.13000)\n",
            "296, 0.11612, 0.14827 (min:0.13000)\n",
            "297, 0.12310, 0.14847 (min:0.13000)\n",
            "298, 0.11853, 0.15644 (min:0.13000)\n",
            "299, 0.12271, 0.14483 (min:0.13000)\n",
            "300, 0.11790, 0.15782 (min:0.13000)\n",
            "INFO:tensorflow:Restoring parameters from ./model.chkp\n"
          ],
          "name": "stdout"
        },
        {
          "output_type": "display_data",
          "data": {
            "image/png": "[encoded data removed]",
            "text/plain": [
              "<matplotlib.figure.Figure at 0x7f8b1affefd0>"
            ]
          },
          "metadata": {
            "tags": []
          }
        }
      ]
    },
    {
      "metadata": {
        "id": "FlbOawRW21ct",
        "colab_type": "code",
        "colab": {
          "autoexec": {
            "startup": false,
            "wait_interval": 0
          },
          "base_uri": "https://localhost:8080/",
          "height": 121
        },
        "outputId": "d068537a-0bca-4d4d-923e-05ea55b02d44",
        "executionInfo": {
          "status": "ok",
          "timestamp": 1524272291175,
          "user_tz": -540,
          "elapsed": 551,
          "user": {
            "displayName": "岡本大和",
            "photoUrl": "//lh4.googleusercontent.com/-5qImZFylRfc/AAAAAAAAAAI/AAAAAAAAEO8/fiOjrug6yhM/s50-c-k-no/photo.jpg",
            "userId": "105136097889028485308"
          }
        }
      },
      "cell_type": "code",
      "source": [
        "\n",
        "def probability2class(prediction_y):\n",
        "  y_class=[]\n",
        "  for y in prediction_y:\n",
        "    if(y[0] < 0.5):\n",
        "      y_class.append(0)\n",
        "    else:\n",
        "      y_class.append(1)\n",
        "  return y_class\n",
        "\n",
        "\n",
        "def calcAccuracy(truth, prediction):\n",
        "    count = 0\n",
        "    for i in range(len(truth)):\n",
        "        if(truth[i][0] == prediction[i]):\n",
        "          count+=1 \n",
        "    print('{:d} / {:d}'.format(count, len(prediction)))\n",
        "    print('Accuracy = {:.5f}'.format(count/len(prediction)))\n",
        "    \n",
        "print('TRAIN')\n",
        "train_class_y = probability2class(predBest_train_Y)\n",
        "calcAccuracy(train_Y, train_class_y) \n",
        "  \n",
        "print('VALID')\n",
        "valid_class_y = probability2class(predBest_valid_Y)\n",
        "calcAccuracy(valid_Y, valid_class_y)"
      ],
      "execution_count": 15,
      "outputs": [
        {
          "output_type": "stream",
          "text": [
            "TRAIN\n",
            "663 / 801\n",
            "Accuracy = 0.82772\n",
            "VALID\n",
            "74 / 90\n",
            "Accuracy = 0.82222\n"
          ],
          "name": "stdout"
        }
      ]
    },
    {
      "metadata": {
        "id": "SU4YcYeqehJ6",
        "colab_type": "code",
        "colab": {
          "autoexec": {
            "startup": false,
            "wait_interval": 0
          }
        }
      },
      "cell_type": "code",
      "source": [
        "\n",
        "predictions = pd.DataFrame(probability2class(predBest_test_Y))\n",
        "filename = \"output.csv\"\n",
        "\n",
        "outputs = test.loc[:, ['PassengerId']]\n",
        "outputs['Survived'] = predictions\n",
        "\n",
        "outputs.to_csv(filename, index=False)\n",
        "#outputs.to_csv(filename, header=False, index=False)\n",
        "files.download(filename)"
      ],
      "execution_count": 0,
      "outputs": []
    },
    {
      "metadata": {
        "id": "Z8eiqpo6ehMa",
        "colab_type": "code",
        "colab": {
          "autoexec": {
            "startup": false,
            "wait_interval": 0
          }
        }
      },
      "cell_type": "code",
      "source": [
        ""
      ],
      "execution_count": 0,
      "outputs": []
    }
  ]
}